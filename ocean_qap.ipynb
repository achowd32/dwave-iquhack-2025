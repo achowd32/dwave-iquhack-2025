{
  "cells": [
    {
      "cell_type": "markdown",
      "id": "be21eece-8936-4c58-adc0-7bbd4571b46e",
      "metadata": {},
      "source": [
        "This Jupyter notebook serves as a brief introduction to `ocean_qap`, a library designed to simplify Quadratic Assignment Problems (QAP) using D-Wave's Quantum SDK, Ocean. This library was built for [D-Wave's challenge at IQuHack 2025](https://github.com/iQuHACK/2025-D-Wave), and their formulation of the modified QAP will be useful in understanding this tutorial.\n",
        "\n",
        "`ocean_qap` conveniently abstracts away many of the inner workings of time-dependent quadratic systems, allowing the user to easily initialize and evolve the state. We begin by importing all dependencies; please ensure you have the following libraries installed on your kernel: `dwave-ocean-sdk`, `numpy`, `matplotlib`, `networkx`, `ocean_qap`."
      ]
    },
    {
      "cell_type": "code",
      "execution_count": 4,
      "id": "0a2c159a",
      "metadata": {},
      "outputs": [
        {
          "name": "stderr",
          "output_type": "stream",
          "text": [
            "199.60s - pydevd: Sending message related to process being replaced timed-out after 5 seconds\n"
          ]
        },
        {
          "name": "stdout",
          "output_type": "stream",
          "text": [
            "Requirement already satisfied: matplotlib in ./.venv/lib/python3.13/site-packages (3.10.0)\n",
            "Requirement already satisfied: contourpy>=1.0.1 in ./.venv/lib/python3.13/site-packages (from matplotlib) (1.3.1)\n",
            "Requirement already satisfied: cycler>=0.10 in ./.venv/lib/python3.13/site-packages (from matplotlib) (0.12.1)\n",
            "Requirement already satisfied: fonttools>=4.22.0 in ./.venv/lib/python3.13/site-packages (from matplotlib) (4.55.8)\n",
            "Requirement already satisfied: kiwisolver>=1.3.1 in ./.venv/lib/python3.13/site-packages (from matplotlib) (1.4.8)\n",
            "Requirement already satisfied: numpy>=1.23 in ./.venv/lib/python3.13/site-packages (from matplotlib) (2.2.2)\n",
            "Requirement already satisfied: packaging>=20.0 in ./.venv/lib/python3.13/site-packages (from matplotlib) (24.2)\n",
            "Requirement already satisfied: pillow>=8 in ./.venv/lib/python3.13/site-packages (from matplotlib) (11.1.0)\n",
            "Requirement already satisfied: pyparsing>=2.3.1 in ./.venv/lib/python3.13/site-packages (from matplotlib) (3.2.1)\n",
            "Requirement already satisfied: python-dateutil>=2.7 in ./.venv/lib/python3.13/site-packages (from matplotlib) (2.9.0.post0)\n",
            "Requirement already satisfied: six>=1.5 in ./.venv/lib/python3.13/site-packages (from python-dateutil>=2.7->matplotlib) (1.17.0)\n",
            "Note: you may need to restart the kernel to use updated packages.\n"
          ]
        }
      ],
      "source": [
        "%pip install dwave-ocean-sdk\n",
        "%pip install matplotlib\n",
        "%pip install numpy\n",
        "%pip install networkx\n",
        "%pip install ocean_qap"
      ]
    },
    {
      "cell_type": "code",
      "execution_count": 3,
      "id": "ad755b42-c1d9-42a5-8d7e-d714648bb327",
      "metadata": {
        "trusted": true
      },
      "outputs": [
        {
          "name": "stderr",
          "output_type": "stream",
          "text": [
            "154.88s - pydevd: Sending message related to process being replaced timed-out after 5 seconds\n"
          ]
        },
        {
          "name": "stdout",
          "output_type": "stream",
          "text": [
            "Requirement already satisfied: numpy in ./.venv/lib/python3.13/site-packages (2.2.2)\n",
            "Note: you may need to restart the kernel to use updated packages.\n"
          ]
        },
        {
          "name": "stderr",
          "output_type": "stream",
          "text": [
            "160.50s - pydevd: Sending message related to process being replaced timed-out after 5 seconds\n"
          ]
        },
        {
          "name": "stdout",
          "output_type": "stream",
          "text": [
            "Collecting matplotlib\n",
            "  Using cached matplotlib-3.10.0-cp313-cp313-macosx_11_0_arm64.whl.metadata (11 kB)\n",
            "Collecting contourpy>=1.0.1 (from matplotlib)\n",
            "  Using cached contourpy-1.3.1-cp313-cp313-macosx_11_0_arm64.whl.metadata (5.4 kB)\n",
            "Collecting cycler>=0.10 (from matplotlib)\n",
            "  Using cached cycler-0.12.1-py3-none-any.whl.metadata (3.8 kB)\n",
            "Collecting fonttools>=4.22.0 (from matplotlib)\n",
            "  Using cached fonttools-4.55.8-cp313-cp313-macosx_10_13_universal2.whl.metadata (101 kB)\n",
            "Collecting kiwisolver>=1.3.1 (from matplotlib)\n",
            "  Using cached kiwisolver-1.4.8-cp313-cp313-macosx_11_0_arm64.whl.metadata (6.2 kB)\n",
            "Requirement already satisfied: numpy>=1.23 in ./.venv/lib/python3.13/site-packages (from matplotlib) (2.2.2)\n",
            "Requirement already satisfied: packaging>=20.0 in ./.venv/lib/python3.13/site-packages (from matplotlib) (24.2)\n",
            "Collecting pillow>=8 (from matplotlib)\n",
            "  Using cached pillow-11.1.0-cp313-cp313-macosx_11_0_arm64.whl.metadata (9.1 kB)\n",
            "Collecting pyparsing>=2.3.1 (from matplotlib)\n",
            "  Using cached pyparsing-3.2.1-py3-none-any.whl.metadata (5.0 kB)\n",
            "Requirement already satisfied: python-dateutil>=2.7 in ./.venv/lib/python3.13/site-packages (from matplotlib) (2.9.0.post0)\n",
            "Requirement already satisfied: six>=1.5 in ./.venv/lib/python3.13/site-packages (from python-dateutil>=2.7->matplotlib) (1.17.0)\n",
            "Using cached matplotlib-3.10.0-cp313-cp313-macosx_11_0_arm64.whl (8.0 MB)\n",
            "Using cached contourpy-1.3.1-cp313-cp313-macosx_11_0_arm64.whl (255 kB)\n",
            "Using cached cycler-0.12.1-py3-none-any.whl (8.3 kB)\n",
            "Using cached fonttools-4.55.8-cp313-cp313-macosx_10_13_universal2.whl (2.7 MB)\n",
            "Using cached kiwisolver-1.4.8-cp313-cp313-macosx_11_0_arm64.whl (65 kB)\n",
            "Using cached pillow-11.1.0-cp313-cp313-macosx_11_0_arm64.whl (3.1 MB)\n",
            "Using cached pyparsing-3.2.1-py3-none-any.whl (107 kB)\n",
            "Installing collected packages: pyparsing, pillow, kiwisolver, fonttools, cycler, contourpy, matplotlib\n",
            "Successfully installed contourpy-1.3.1 cycler-0.12.1 fonttools-4.55.8 kiwisolver-1.4.8 matplotlib-3.10.0 pillow-11.1.0 pyparsing-3.2.1\n",
            "Note: you may need to restart the kernel to use updated packages.\n"
          ]
        },
        {
          "name": "stderr",
          "output_type": "stream",
          "text": [
            "167.59s - pydevd: Sending message related to process being replaced timed-out after 5 seconds\n"
          ]
        },
        {
          "name": "stdout",
          "output_type": "stream",
          "text": [
            "Collecting networkx\n",
            "  Using cached networkx-3.4.2-py3-none-any.whl.metadata (6.3 kB)\n",
            "Using cached networkx-3.4.2-py3-none-any.whl (1.7 MB)\n",
            "Installing collected packages: networkx\n",
            "Successfully installed networkx-3.4.2\n",
            "Note: you may need to restart the kernel to use updated packages.\n"
          ]
        },
        {
          "name": "stderr",
          "output_type": "stream",
          "text": [
            "173.79s - pydevd: Sending message related to process being replaced timed-out after 5 seconds\n"
          ]
        },
        {
          "name": "stdout",
          "output_type": "stream",
          "text": [
            "Collecting dwave-ocean-sdk\n",
            "  Using cached dwave_ocean_sdk-8.1.0-py3-none-any.whl.metadata (5.5 kB)\n",
            "Collecting dimod==0.12.18 (from dwave-ocean-sdk)\n",
            "  Using cached dimod-0.12.18-cp313-cp313-macosx_11_0_arm64.whl.metadata (4.0 kB)\n",
            "Collecting dwave-cloud-client==0.13.2 (from dwave-ocean-sdk)\n",
            "  Using cached dwave_cloud_client-0.13.2-py3-none-any.whl.metadata (5.2 kB)\n",
            "Collecting dwave-gate==0.3.3 (from dwave-ocean-sdk)\n",
            "  Using cached dwave_gate-0.3.3-cp313-cp313-macosx_11_0_arm64.whl.metadata (18 kB)\n",
            "Collecting dwave-hybrid==0.6.13 (from dwave-ocean-sdk)\n",
            "  Using cached dwave_hybrid-0.6.13-py3-none-any.whl.metadata (4.3 kB)\n",
            "Collecting dwave-inspector==0.5.2 (from dwave-ocean-sdk)\n",
            "  Using cached dwave_inspector-0.5.2-py3-none-any.whl.metadata (4.4 kB)\n",
            "Collecting dwave-networkx==0.8.16 (from dwave-ocean-sdk)\n",
            "  Using cached dwave_networkx-0.8.16-py3-none-any.whl.metadata (2.6 kB)\n",
            "Collecting dwave-optimization==0.4.2 (from dwave-ocean-sdk)\n",
            "  Using cached dwave_optimization-0.4.2-cp313-cp313-macosx_11_0_arm64.whl.metadata (18 kB)\n",
            "Collecting dwave-preprocessing==0.6.7 (from dwave-ocean-sdk)\n",
            "  Using cached dwave_preprocessing-0.6.7-cp313-cp313-macosx_11_0_arm64.whl.metadata (3.6 kB)\n",
            "Collecting dwave-samplers==1.4.0 (from dwave-ocean-sdk)\n",
            "  Using cached dwave_samplers-1.4.0-cp313-cp313-macosx_11_0_arm64.whl.metadata (9.9 kB)\n",
            "Collecting dwave-system==1.28.0 (from dwave-ocean-sdk)\n",
            "  Using cached dwave_system-1.28.0-py3-none-any.whl.metadata (3.2 kB)\n",
            "Collecting dwavebinarycsp==0.3.1 (from dwave-ocean-sdk)\n",
            "  Using cached dwavebinarycsp-0.3.1-py3-none-any.whl.metadata (3.0 kB)\n",
            "Collecting minorminer==0.2.16 (from dwave-ocean-sdk)\n",
            "  Using cached minorminer-0.2.16-cp313-cp313-macosx_11_0_arm64.whl.metadata (20 kB)\n",
            "Collecting penaltymodel==1.2.0 (from dwave-ocean-sdk)\n",
            "  Using cached penaltymodel-1.2.0-py3-none-any.whl.metadata (6.5 kB)\n",
            "Requirement already satisfied: numpy>=1.17.3 in ./.venv/lib/python3.13/site-packages (from dimod==0.12.18->dwave-ocean-sdk) (2.2.2)\n",
            "Collecting requests<3,>=2.25 (from requests[socks]<3,>=2.25->dwave-cloud-client==0.13.2->dwave-ocean-sdk)\n",
            "  Using cached requests-2.32.3-py3-none-any.whl.metadata (4.6 kB)\n",
            "Collecting urllib3<3,>=1.26 (from dwave-cloud-client==0.13.2->dwave-ocean-sdk)\n",
            "  Using cached urllib3-2.3.0-py3-none-any.whl.metadata (6.5 kB)\n",
            "Collecting pydantic<3,>=2 (from dwave-cloud-client==0.13.2->dwave-ocean-sdk)\n",
            "  Using cached pydantic-2.10.6-py3-none-any.whl.metadata (30 kB)\n",
            "Collecting homebase<2,>=1.0 (from dwave-cloud-client==0.13.2->dwave-ocean-sdk)\n",
            "  Using cached homebase-1.0.1-py2.py3-none-any.whl.metadata (3.3 kB)\n",
            "Collecting click<9,>=7.0 (from dwave-cloud-client==0.13.2->dwave-ocean-sdk)\n",
            "  Using cached click-8.1.8-py3-none-any.whl.metadata (2.3 kB)\n",
            "Requirement already satisfied: python-dateutil<3,>=2.7 in ./.venv/lib/python3.13/site-packages (from dwave-cloud-client==0.13.2->dwave-ocean-sdk) (2.9.0.post0)\n",
            "Collecting plucky<0.5,>=0.4.3 (from dwave-cloud-client==0.13.2->dwave-ocean-sdk)\n",
            "  Using cached plucky-0.4.3-py2.py3-none-any.whl.metadata (4.4 kB)\n",
            "Collecting diskcache<6,>=5.2.1 (from dwave-cloud-client==0.13.2->dwave-ocean-sdk)\n",
            "  Using cached diskcache-5.6.3-py3-none-any.whl.metadata (20 kB)\n",
            "Requirement already satisfied: packaging>=19 in ./.venv/lib/python3.13/site-packages (from dwave-cloud-client==0.13.2->dwave-ocean-sdk) (24.2)\n",
            "Collecting werkzeug<4,>=2.2 (from dwave-cloud-client==0.13.2->dwave-ocean-sdk)\n",
            "  Using cached werkzeug-3.1.3-py3-none-any.whl.metadata (3.7 kB)\n",
            "Collecting typing-extensions<5,>=4.5.0 (from dwave-cloud-client==0.13.2->dwave-ocean-sdk)\n",
            "  Using cached typing_extensions-4.12.2-py3-none-any.whl.metadata (3.0 kB)\n",
            "Collecting authlib<2,>=1.2 (from dwave-cloud-client==0.13.2->dwave-ocean-sdk)\n",
            "  Using cached Authlib-1.4.1-py2.py3-none-any.whl.metadata (3.9 kB)\n",
            "Collecting importlib_metadata>=5.0.0 (from dwave-cloud-client==0.13.2->dwave-ocean-sdk)\n",
            "  Using cached importlib_metadata-8.6.1-py3-none-any.whl.metadata (4.7 kB)\n",
            "Collecting orjson>=3.10 (from dwave-cloud-client==0.13.2->dwave-ocean-sdk)\n",
            "  Using cached orjson-3.10.15-cp313-cp313-macosx_10_15_x86_64.macosx_11_0_arm64.macosx_10_15_universal2.whl.metadata (41 kB)\n",
            "Requirement already satisfied: networkx in ./.venv/lib/python3.13/site-packages (from dwave-hybrid==0.6.13->dwave-ocean-sdk) (3.4.2)\n",
            "Collecting Flask<4,>=2.2 (from dwave-inspector==0.5.2->dwave-ocean-sdk)\n",
            "  Using cached flask-3.1.0-py3-none-any.whl.metadata (2.7 kB)\n",
            "Collecting scipy>=1.7.3 (from dwave-system==1.28.0->dwave-ocean-sdk)\n",
            "  Using cached scipy-1.15.1-cp313-cp313-macosx_14_0_arm64.whl.metadata (61 kB)\n",
            "Collecting fasteners>=0.15 (from minorminer==0.2.16->dwave-ocean-sdk)\n",
            "  Using cached fasteners-0.19-py3-none-any.whl.metadata (4.9 kB)\n",
            "Collecting cryptography (from authlib<2,>=1.2->dwave-cloud-client==0.13.2->dwave-ocean-sdk)\n",
            "  Using cached cryptography-44.0.0-cp39-abi3-macosx_10_9_universal2.whl.metadata (5.7 kB)\n",
            "Collecting Jinja2>=3.1.2 (from Flask<4,>=2.2->dwave-inspector==0.5.2->dwave-ocean-sdk)\n",
            "  Using cached jinja2-3.1.5-py3-none-any.whl.metadata (2.6 kB)\n",
            "Collecting itsdangerous>=2.2 (from Flask<4,>=2.2->dwave-inspector==0.5.2->dwave-ocean-sdk)\n",
            "  Using cached itsdangerous-2.2.0-py3-none-any.whl.metadata (1.9 kB)\n",
            "Collecting blinker>=1.9 (from Flask<4,>=2.2->dwave-inspector==0.5.2->dwave-ocean-sdk)\n",
            "  Using cached blinker-1.9.0-py3-none-any.whl.metadata (1.6 kB)\n",
            "Collecting zipp>=3.20 (from importlib_metadata>=5.0.0->dwave-cloud-client==0.13.2->dwave-ocean-sdk)\n",
            "  Using cached zipp-3.21.0-py3-none-any.whl.metadata (3.7 kB)\n",
            "Collecting annotated-types>=0.6.0 (from pydantic<3,>=2->dwave-cloud-client==0.13.2->dwave-ocean-sdk)\n",
            "  Using cached annotated_types-0.7.0-py3-none-any.whl.metadata (15 kB)\n",
            "Collecting pydantic-core==2.27.2 (from pydantic<3,>=2->dwave-cloud-client==0.13.2->dwave-ocean-sdk)\n",
            "  Using cached pydantic_core-2.27.2-cp313-cp313-macosx_11_0_arm64.whl.metadata (6.6 kB)\n",
            "Requirement already satisfied: six>=1.5 in ./.venv/lib/python3.13/site-packages (from python-dateutil<3,>=2.7->dwave-cloud-client==0.13.2->dwave-ocean-sdk) (1.17.0)\n",
            "Collecting charset-normalizer<4,>=2 (from requests<3,>=2.25->requests[socks]<3,>=2.25->dwave-cloud-client==0.13.2->dwave-ocean-sdk)\n",
            "  Using cached charset_normalizer-3.4.1-cp313-cp313-macosx_10_13_universal2.whl.metadata (35 kB)\n",
            "Collecting idna<4,>=2.5 (from requests<3,>=2.25->requests[socks]<3,>=2.25->dwave-cloud-client==0.13.2->dwave-ocean-sdk)\n",
            "  Using cached idna-3.10-py3-none-any.whl.metadata (10 kB)\n",
            "Collecting certifi>=2017.4.17 (from requests<3,>=2.25->requests[socks]<3,>=2.25->dwave-cloud-client==0.13.2->dwave-ocean-sdk)\n",
            "  Using cached certifi-2025.1.31-py3-none-any.whl.metadata (2.5 kB)\n",
            "Collecting PySocks!=1.5.7,>=1.5.6 (from requests[socks]<3,>=2.25->dwave-cloud-client==0.13.2->dwave-ocean-sdk)\n",
            "  Using cached PySocks-1.7.1-py3-none-any.whl.metadata (13 kB)\n",
            "Collecting MarkupSafe>=2.1.1 (from werkzeug<4,>=2.2->dwave-cloud-client==0.13.2->dwave-ocean-sdk)\n",
            "  Using cached MarkupSafe-3.0.2-cp313-cp313-macosx_11_0_arm64.whl.metadata (4.0 kB)\n",
            "Collecting cffi>=1.12 (from cryptography->authlib<2,>=1.2->dwave-cloud-client==0.13.2->dwave-ocean-sdk)\n",
            "  Using cached cffi-1.17.1-cp313-cp313-macosx_11_0_arm64.whl.metadata (1.5 kB)\n",
            "Collecting pycparser (from cffi>=1.12->cryptography->authlib<2,>=1.2->dwave-cloud-client==0.13.2->dwave-ocean-sdk)\n",
            "  Using cached pycparser-2.22-py3-none-any.whl.metadata (943 bytes)\n",
            "Using cached dwave_ocean_sdk-8.1.0-py3-none-any.whl (8.3 kB)\n",
            "Using cached dimod-0.12.18-cp313-cp313-macosx_11_0_arm64.whl (5.2 MB)\n",
            "Using cached dwave_cloud_client-0.13.2-py3-none-any.whl (158 kB)\n",
            "Using cached dwave_gate-0.3.3-cp313-cp313-macosx_11_0_arm64.whl (604 kB)\n",
            "Using cached dwave_hybrid-0.6.13-py3-none-any.whl (78 kB)\n",
            "Using cached dwave_inspector-0.5.2-py3-none-any.whl (30 kB)\n",
            "Using cached dwave_networkx-0.8.16-py3-none-any.whl (103 kB)\n",
            "Using cached dwave_optimization-0.4.2-cp313-cp313-macosx_11_0_arm64.whl (955 kB)\n",
            "Using cached dwave_preprocessing-0.6.7-cp313-cp313-macosx_11_0_arm64.whl (694 kB)\n",
            "Using cached dwave_samplers-1.4.0-cp313-cp313-macosx_11_0_arm64.whl (1.9 MB)\n",
            "Using cached dwave_system-1.28.0-py3-none-any.whl (100 kB)\n",
            "Using cached dwavebinarycsp-0.3.1-py3-none-any.whl (35 kB)\n",
            "Using cached minorminer-0.2.16-cp313-cp313-macosx_11_0_arm64.whl (1.5 MB)\n",
            "Using cached penaltymodel-1.2.0-py3-none-any.whl (36 kB)\n",
            "Using cached Authlib-1.4.1-py2.py3-none-any.whl (225 kB)\n",
            "Using cached click-8.1.8-py3-none-any.whl (98 kB)\n",
            "Using cached diskcache-5.6.3-py3-none-any.whl (45 kB)\n",
            "Using cached fasteners-0.19-py3-none-any.whl (18 kB)\n",
            "Using cached flask-3.1.0-py3-none-any.whl (102 kB)\n",
            "Using cached homebase-1.0.1-py2.py3-none-any.whl (11 kB)\n",
            "Using cached importlib_metadata-8.6.1-py3-none-any.whl (26 kB)\n",
            "Using cached orjson-3.10.15-cp313-cp313-macosx_10_15_x86_64.macosx_11_0_arm64.macosx_10_15_universal2.whl (249 kB)\n",
            "Using cached plucky-0.4.3-py2.py3-none-any.whl (10 kB)\n",
            "Using cached pydantic-2.10.6-py3-none-any.whl (431 kB)\n",
            "Using cached pydantic_core-2.27.2-cp313-cp313-macosx_11_0_arm64.whl (1.8 MB)\n",
            "Using cached requests-2.32.3-py3-none-any.whl (64 kB)\n",
            "Using cached scipy-1.15.1-cp313-cp313-macosx_14_0_arm64.whl (24.8 MB)\n",
            "Using cached typing_extensions-4.12.2-py3-none-any.whl (37 kB)\n",
            "Using cached urllib3-2.3.0-py3-none-any.whl (128 kB)\n",
            "Using cached werkzeug-3.1.3-py3-none-any.whl (224 kB)\n",
            "Using cached annotated_types-0.7.0-py3-none-any.whl (13 kB)\n",
            "Using cached blinker-1.9.0-py3-none-any.whl (8.5 kB)\n",
            "Using cached certifi-2025.1.31-py3-none-any.whl (166 kB)\n",
            "Using cached charset_normalizer-3.4.1-cp313-cp313-macosx_10_13_universal2.whl (195 kB)\n",
            "Using cached idna-3.10-py3-none-any.whl (70 kB)\n",
            "Using cached itsdangerous-2.2.0-py3-none-any.whl (16 kB)\n",
            "Using cached jinja2-3.1.5-py3-none-any.whl (134 kB)\n",
            "Using cached MarkupSafe-3.0.2-cp313-cp313-macosx_11_0_arm64.whl (12 kB)\n",
            "Using cached PySocks-1.7.1-py3-none-any.whl (16 kB)\n",
            "Using cached zipp-3.21.0-py3-none-any.whl (9.6 kB)\n",
            "Using cached cryptography-44.0.0-cp39-abi3-macosx_10_9_universal2.whl (6.5 MB)\n",
            "Using cached cffi-1.17.1-cp313-cp313-macosx_11_0_arm64.whl (178 kB)\n",
            "Using cached pycparser-2.22-py3-none-any.whl (117 kB)\n",
            "Installing collected packages: plucky, homebase, zipp, urllib3, typing-extensions, scipy, PySocks, pycparser, orjson, MarkupSafe, itsdangerous, idna, fasteners, dwave-optimization, dwave-gate, diskcache, dimod, click, charset-normalizer, certifi, blinker, annotated-types, werkzeug, requests, pydantic-core, penaltymodel, Jinja2, importlib_metadata, dwave-samplers, dwave-preprocessing, dwave-networkx, cffi, pydantic, minorminer, Flask, dwavebinarycsp, cryptography, authlib, dwave-cloud-client, dwave-system, dwave-inspector, dwave-hybrid, dwave-ocean-sdk\n",
            "Successfully installed Flask-3.1.0 Jinja2-3.1.5 MarkupSafe-3.0.2 PySocks-1.7.1 annotated-types-0.7.0 authlib-1.4.1 blinker-1.9.0 certifi-2025.1.31 cffi-1.17.1 charset-normalizer-3.4.1 click-8.1.8 cryptography-44.0.0 dimod-0.12.18 diskcache-5.6.3 dwave-cloud-client-0.13.2 dwave-gate-0.3.3 dwave-hybrid-0.6.13 dwave-inspector-0.5.2 dwave-networkx-0.8.16 dwave-ocean-sdk-8.1.0 dwave-optimization-0.4.2 dwave-preprocessing-0.6.7 dwave-samplers-1.4.0 dwave-system-1.28.0 dwavebinarycsp-0.3.1 fasteners-0.19 homebase-1.0.1 idna-3.10 importlib_metadata-8.6.1 itsdangerous-2.2.0 minorminer-0.2.16 orjson-3.10.15 penaltymodel-1.2.0 plucky-0.4.3 pycparser-2.22 pydantic-2.10.6 pydantic-core-2.27.2 requests-2.32.3 scipy-1.15.1 typing-extensions-4.12.2 urllib3-2.3.0 werkzeug-3.1.3 zipp-3.21.0\n",
            "Note: you may need to restart the kernel to use updated packages.\n"
          ]
        },
        {
          "name": "stderr",
          "output_type": "stream",
          "text": [
            "185.09s - pydevd: Sending message related to process being replaced timed-out after 5 seconds\n"
          ]
        },
        {
          "name": "stdout",
          "output_type": "stream",
          "text": [
            "Collecting ocean_qap\n",
            "  Downloading ocean_qap-0.0.2-py3-none-any.whl.metadata (325 bytes)\n",
            "Requirement already satisfied: matplotlib>=3.0.0 in ./.venv/lib/python3.13/site-packages (from ocean_qap) (3.10.0)\n",
            "Requirement already satisfied: numpy>=1.19.0 in ./.venv/lib/python3.13/site-packages (from ocean_qap) (2.2.2)\n",
            "Requirement already satisfied: networkx>=2.5 in ./.venv/lib/python3.13/site-packages (from ocean_qap) (3.4.2)\n",
            "Requirement already satisfied: dwave-ocean-sdk>=5.5.0 in ./.venv/lib/python3.13/site-packages (from ocean_qap) (8.1.0)\n",
            "Requirement already satisfied: dimod==0.12.18 in ./.venv/lib/python3.13/site-packages (from dwave-ocean-sdk>=5.5.0->ocean_qap) (0.12.18)\n",
            "Requirement already satisfied: dwave-cloud-client==0.13.2 in ./.venv/lib/python3.13/site-packages (from dwave-ocean-sdk>=5.5.0->ocean_qap) (0.13.2)\n",
            "Requirement already satisfied: dwave-gate==0.3.3 in ./.venv/lib/python3.13/site-packages (from dwave-ocean-sdk>=5.5.0->ocean_qap) (0.3.3)\n",
            "Requirement already satisfied: dwave-hybrid==0.6.13 in ./.venv/lib/python3.13/site-packages (from dwave-ocean-sdk>=5.5.0->ocean_qap) (0.6.13)\n",
            "Requirement already satisfied: dwave-inspector==0.5.2 in ./.venv/lib/python3.13/site-packages (from dwave-ocean-sdk>=5.5.0->ocean_qap) (0.5.2)\n",
            "Requirement already satisfied: dwave-networkx==0.8.16 in ./.venv/lib/python3.13/site-packages (from dwave-ocean-sdk>=5.5.0->ocean_qap) (0.8.16)\n",
            "Requirement already satisfied: dwave-optimization==0.4.2 in ./.venv/lib/python3.13/site-packages (from dwave-ocean-sdk>=5.5.0->ocean_qap) (0.4.2)\n",
            "Requirement already satisfied: dwave-preprocessing==0.6.7 in ./.venv/lib/python3.13/site-packages (from dwave-ocean-sdk>=5.5.0->ocean_qap) (0.6.7)\n",
            "Requirement already satisfied: dwave-samplers==1.4.0 in ./.venv/lib/python3.13/site-packages (from dwave-ocean-sdk>=5.5.0->ocean_qap) (1.4.0)\n",
            "Requirement already satisfied: dwave-system==1.28.0 in ./.venv/lib/python3.13/site-packages (from dwave-ocean-sdk>=5.5.0->ocean_qap) (1.28.0)\n",
            "Requirement already satisfied: dwavebinarycsp==0.3.1 in ./.venv/lib/python3.13/site-packages (from dwave-ocean-sdk>=5.5.0->ocean_qap) (0.3.1)\n",
            "Requirement already satisfied: minorminer==0.2.16 in ./.venv/lib/python3.13/site-packages (from dwave-ocean-sdk>=5.5.0->ocean_qap) (0.2.16)\n",
            "Requirement already satisfied: penaltymodel==1.2.0 in ./.venv/lib/python3.13/site-packages (from dwave-ocean-sdk>=5.5.0->ocean_qap) (1.2.0)\n",
            "Requirement already satisfied: requests<3,>=2.25 in ./.venv/lib/python3.13/site-packages (from requests[socks]<3,>=2.25->dwave-cloud-client==0.13.2->dwave-ocean-sdk>=5.5.0->ocean_qap) (2.32.3)\n",
            "Requirement already satisfied: urllib3<3,>=1.26 in ./.venv/lib/python3.13/site-packages (from dwave-cloud-client==0.13.2->dwave-ocean-sdk>=5.5.0->ocean_qap) (2.3.0)\n",
            "Requirement already satisfied: pydantic<3,>=2 in ./.venv/lib/python3.13/site-packages (from dwave-cloud-client==0.13.2->dwave-ocean-sdk>=5.5.0->ocean_qap) (2.10.6)\n",
            "Requirement already satisfied: homebase<2,>=1.0 in ./.venv/lib/python3.13/site-packages (from dwave-cloud-client==0.13.2->dwave-ocean-sdk>=5.5.0->ocean_qap) (1.0.1)\n",
            "Requirement already satisfied: click<9,>=7.0 in ./.venv/lib/python3.13/site-packages (from dwave-cloud-client==0.13.2->dwave-ocean-sdk>=5.5.0->ocean_qap) (8.1.8)\n",
            "Requirement already satisfied: python-dateutil<3,>=2.7 in ./.venv/lib/python3.13/site-packages (from dwave-cloud-client==0.13.2->dwave-ocean-sdk>=5.5.0->ocean_qap) (2.9.0.post0)\n",
            "Requirement already satisfied: plucky<0.5,>=0.4.3 in ./.venv/lib/python3.13/site-packages (from dwave-cloud-client==0.13.2->dwave-ocean-sdk>=5.5.0->ocean_qap) (0.4.3)\n",
            "Requirement already satisfied: diskcache<6,>=5.2.1 in ./.venv/lib/python3.13/site-packages (from dwave-cloud-client==0.13.2->dwave-ocean-sdk>=5.5.0->ocean_qap) (5.6.3)\n",
            "Requirement already satisfied: packaging>=19 in ./.venv/lib/python3.13/site-packages (from dwave-cloud-client==0.13.2->dwave-ocean-sdk>=5.5.0->ocean_qap) (24.2)\n",
            "Requirement already satisfied: werkzeug<4,>=2.2 in ./.venv/lib/python3.13/site-packages (from dwave-cloud-client==0.13.2->dwave-ocean-sdk>=5.5.0->ocean_qap) (3.1.3)\n",
            "Requirement already satisfied: typing-extensions<5,>=4.5.0 in ./.venv/lib/python3.13/site-packages (from dwave-cloud-client==0.13.2->dwave-ocean-sdk>=5.5.0->ocean_qap) (4.12.2)\n",
            "Requirement already satisfied: authlib<2,>=1.2 in ./.venv/lib/python3.13/site-packages (from dwave-cloud-client==0.13.2->dwave-ocean-sdk>=5.5.0->ocean_qap) (1.4.1)\n",
            "Requirement already satisfied: importlib_metadata>=5.0.0 in ./.venv/lib/python3.13/site-packages (from dwave-cloud-client==0.13.2->dwave-ocean-sdk>=5.5.0->ocean_qap) (8.6.1)\n",
            "Requirement already satisfied: orjson>=3.10 in ./.venv/lib/python3.13/site-packages (from dwave-cloud-client==0.13.2->dwave-ocean-sdk>=5.5.0->ocean_qap) (3.10.15)\n",
            "Requirement already satisfied: Flask<4,>=2.2 in ./.venv/lib/python3.13/site-packages (from dwave-inspector==0.5.2->dwave-ocean-sdk>=5.5.0->ocean_qap) (3.1.0)\n",
            "Requirement already satisfied: scipy>=1.7.3 in ./.venv/lib/python3.13/site-packages (from dwave-system==1.28.0->dwave-ocean-sdk>=5.5.0->ocean_qap) (1.15.1)\n",
            "Requirement already satisfied: fasteners>=0.15 in ./.venv/lib/python3.13/site-packages (from minorminer==0.2.16->dwave-ocean-sdk>=5.5.0->ocean_qap) (0.19)\n",
            "Requirement already satisfied: contourpy>=1.0.1 in ./.venv/lib/python3.13/site-packages (from matplotlib>=3.0.0->ocean_qap) (1.3.1)\n",
            "Requirement already satisfied: cycler>=0.10 in ./.venv/lib/python3.13/site-packages (from matplotlib>=3.0.0->ocean_qap) (0.12.1)\n",
            "Requirement already satisfied: fonttools>=4.22.0 in ./.venv/lib/python3.13/site-packages (from matplotlib>=3.0.0->ocean_qap) (4.55.8)\n",
            "Requirement already satisfied: kiwisolver>=1.3.1 in ./.venv/lib/python3.13/site-packages (from matplotlib>=3.0.0->ocean_qap) (1.4.8)\n",
            "Requirement already satisfied: pillow>=8 in ./.venv/lib/python3.13/site-packages (from matplotlib>=3.0.0->ocean_qap) (11.1.0)\n",
            "Requirement already satisfied: pyparsing>=2.3.1 in ./.venv/lib/python3.13/site-packages (from matplotlib>=3.0.0->ocean_qap) (3.2.1)\n",
            "Requirement already satisfied: six>=1.5 in ./.venv/lib/python3.13/site-packages (from python-dateutil<3,>=2.7->dwave-cloud-client==0.13.2->dwave-ocean-sdk>=5.5.0->ocean_qap) (1.17.0)\n",
            "Requirement already satisfied: cryptography in ./.venv/lib/python3.13/site-packages (from authlib<2,>=1.2->dwave-cloud-client==0.13.2->dwave-ocean-sdk>=5.5.0->ocean_qap) (44.0.0)\n",
            "Requirement already satisfied: Jinja2>=3.1.2 in ./.venv/lib/python3.13/site-packages (from Flask<4,>=2.2->dwave-inspector==0.5.2->dwave-ocean-sdk>=5.5.0->ocean_qap) (3.1.5)\n",
            "Requirement already satisfied: itsdangerous>=2.2 in ./.venv/lib/python3.13/site-packages (from Flask<4,>=2.2->dwave-inspector==0.5.2->dwave-ocean-sdk>=5.5.0->ocean_qap) (2.2.0)\n",
            "Requirement already satisfied: blinker>=1.9 in ./.venv/lib/python3.13/site-packages (from Flask<4,>=2.2->dwave-inspector==0.5.2->dwave-ocean-sdk>=5.5.0->ocean_qap) (1.9.0)\n",
            "Requirement already satisfied: zipp>=3.20 in ./.venv/lib/python3.13/site-packages (from importlib_metadata>=5.0.0->dwave-cloud-client==0.13.2->dwave-ocean-sdk>=5.5.0->ocean_qap) (3.21.0)\n",
            "Requirement already satisfied: annotated-types>=0.6.0 in ./.venv/lib/python3.13/site-packages (from pydantic<3,>=2->dwave-cloud-client==0.13.2->dwave-ocean-sdk>=5.5.0->ocean_qap) (0.7.0)\n",
            "Requirement already satisfied: pydantic-core==2.27.2 in ./.venv/lib/python3.13/site-packages (from pydantic<3,>=2->dwave-cloud-client==0.13.2->dwave-ocean-sdk>=5.5.0->ocean_qap) (2.27.2)\n",
            "Requirement already satisfied: charset-normalizer<4,>=2 in ./.venv/lib/python3.13/site-packages (from requests<3,>=2.25->requests[socks]<3,>=2.25->dwave-cloud-client==0.13.2->dwave-ocean-sdk>=5.5.0->ocean_qap) (3.4.1)\n",
            "Requirement already satisfied: idna<4,>=2.5 in ./.venv/lib/python3.13/site-packages (from requests<3,>=2.25->requests[socks]<3,>=2.25->dwave-cloud-client==0.13.2->dwave-ocean-sdk>=5.5.0->ocean_qap) (3.10)\n",
            "Requirement already satisfied: certifi>=2017.4.17 in ./.venv/lib/python3.13/site-packages (from requests<3,>=2.25->requests[socks]<3,>=2.25->dwave-cloud-client==0.13.2->dwave-ocean-sdk>=5.5.0->ocean_qap) (2025.1.31)\n",
            "Requirement already satisfied: PySocks!=1.5.7,>=1.5.6 in ./.venv/lib/python3.13/site-packages (from requests[socks]<3,>=2.25->dwave-cloud-client==0.13.2->dwave-ocean-sdk>=5.5.0->ocean_qap) (1.7.1)\n",
            "Requirement already satisfied: MarkupSafe>=2.1.1 in ./.venv/lib/python3.13/site-packages (from werkzeug<4,>=2.2->dwave-cloud-client==0.13.2->dwave-ocean-sdk>=5.5.0->ocean_qap) (3.0.2)\n",
            "Requirement already satisfied: cffi>=1.12 in ./.venv/lib/python3.13/site-packages (from cryptography->authlib<2,>=1.2->dwave-cloud-client==0.13.2->dwave-ocean-sdk>=5.5.0->ocean_qap) (1.17.1)\n",
            "Requirement already satisfied: pycparser in ./.venv/lib/python3.13/site-packages (from cffi>=1.12->cryptography->authlib<2,>=1.2->dwave-cloud-client==0.13.2->dwave-ocean-sdk>=5.5.0->ocean_qap) (2.22)\n",
            "Downloading ocean_qap-0.0.2-py3-none-any.whl (4.2 kB)\n",
            "Installing collected packages: ocean_qap\n",
            "Successfully installed ocean_qap-0.0.2\n",
            "Note: you may need to restart the kernel to use updated packages.\n"
          ]
        }
      ],
      "source": [
        "import numpy as np\n",
        "import networkx as nx\n",
        "import matplotlib.pyplot as plt\n",
        "from dwave.samplers import SimulatedAnnealingSampler"
      ]
    },
    {
      "cell_type": "markdown",
      "id": "c1f6aa29-d248-4613-a76b-6b33dc824ed5",
      "metadata": {},
      "source": [
        "We're now ready to begin working with `ocean_qap`! The two primary inputs for the `QAP` class are a flow matrix and distance matrix, which must be initialized as numpy arrays. The QAP class, which represents the entire system described by these matrices and contains all of their inner workings, can then be initialized as follows:"
      ]
    },
    {
      "cell_type": "code",
      "execution_count": 6,
      "id": "47991f26-bbef-4e86-94a5-76cc9be8cfd1",
      "metadata": {
        "trusted": true
      },
      "outputs": [],
      "source": [
        "from ocean_qap import QAP\n",
        "\n",
        "flow_0 = np.array([[0, 0.5, 1], [0.5, 0, 10], [1, 10, 0]])\n",
        "distance = np.array([[0, 105, 100], [105, 0, 10], [100, 10, 0]])\n",
        "system = QAP(flow_0, distance)"
      ]
    },
    {
      "cell_type": "markdown",
      "id": "65670116-c9be-4d37-920c-7a3d1c128d40",
      "metadata": {},
      "source": [
        "The class automatically initializes various useful objects, such as the `qubo` object (representing a QUBO matrix for optimizing the system, generated from the flow and distance matrices). However, the state of the system has not yet been initialized, and must be done so as follows:"
      ]
    },
    {
      "cell_type": "code",
      "execution_count": 7,
      "id": "b7f25211-9d5d-4be4-be8e-0fbc7cb15cf2",
      "metadata": {
        "trusted": true
      },
      "outputs": [
        {
          "data": {
            "text/plain": [
              "array([[1, 0, 0],\n",
              "       [0, 1, 0],\n",
              "       [0, 0, 1]], dtype=int8)"
            ]
          },
          "execution_count": 7,
          "metadata": {},
          "output_type": "execute_result"
        }
      ],
      "source": [
        "system.time_init()"
      ]
    },
    {
      "cell_type": "markdown",
      "id": "ce4b3424-7cb3-45ef-aed6-9c726edccb3e",
      "metadata": {},
      "source": [
        "Great! Behind the scenes, the `QAP` class has handled all aspects of initializing the system, including running a simulation to generate an optimized state based on the `qubo` object. You can access the current state of the system at any time from now with `system.cur_state`. This outputs a matrix of binary variables with the same dimension as your flow and distance matrices, where each entry $(i, j)$ represents whether or not facility $i$ is present at location $j$. Try it below:"
      ]
    },
    {
      "cell_type": "code",
      "execution_count": 8,
      "id": "f8fc98e2-56ee-4baa-850d-2dc1aaca1bbc",
      "metadata": {
        "trusted": true
      },
      "outputs": [
        {
          "name": "stdout",
          "output_type": "stream",
          "text": [
            "[[1 0 0]\n",
            " [0 1 0]\n",
            " [0 0 1]]\n"
          ]
        }
      ],
      "source": [
        "print(system.cur_state)"
      ]
    },
    {
      "cell_type": "markdown",
      "id": "377e97fc-d202-4464-8f28-c680275716f5",
      "metadata": {},
      "source": [
        "Now you're ready to evolve this system. By using the `time_evolve()` method with a single parameter (a new flow matrix), we can evolve the system by generating a new state, which is now optimized not only using the flow and distance matrices, but on the cost associated with transitioning between the two states. Try it below:"
      ]
    },
    {
      "cell_type": "code",
      "execution_count": 9,
      "id": "cf9c0026-e840-4098-9876-0bf81ea9d914",
      "metadata": {
        "trusted": true
      },
      "outputs": [
        {
          "name": "stdout",
          "output_type": "stream",
          "text": [
            "[[1 0 0]\n",
            " [0 0 1]\n",
            " [0 1 0]]\n"
          ]
        }
      ],
      "source": [
        "flow_1 = np.array([[0, 10, 0.1], [10, 0, 100], [0.1, 100, 0]])\n",
        "system.time_evolve(flow_1)\n",
        "print(system.cur_state)"
      ]
    },
    {
      "cell_type": "markdown",
      "id": "39fa4a9b-bb31-4e20-9229-bbfa16791da4",
      "metadata": {},
      "source": [
        "You now understand the fundamentals of the `QAP` class. We hope you enjoy exploring the functionality baked into this library, and enjoy using our library to work with complex QAPs. A brief description of some secondary features of this class follows below."
      ]
    },
    {
      "cell_type": "code",
      "execution_count": 10,
      "id": "d5c547a4-645d-4a22-a50e-a91c41e37a0d",
      "metadata": {
        "trusted": true
      },
      "outputs": [
        {
          "name": "stdout",
          "output_type": "stream",
          "text": [
            "[[-2.00e+03  1.00e+03  1.00e+03  1.00e+03  1.05e+03  1.00e+03  1.00e+03\n",
            "   1.05e+01  1.00e+01]\n",
            " [ 1.00e+03 -2.00e+03  1.00e+03  1.05e+03  1.00e+03  1.00e+02  1.05e+01\n",
            "   1.00e+03  1.00e+00]\n",
            " [ 1.00e+03  1.00e+03 -2.00e+03  1.00e+03  1.00e+02  1.00e+03  1.00e+01\n",
            "   1.00e+00  1.00e+03]\n",
            " [ 1.00e+03  1.05e+03  1.00e+03 -2.00e+03  1.00e+03  1.00e+03  1.00e+03\n",
            "   1.05e+04  1.00e+04]\n",
            " [ 1.05e+03  1.00e+03  1.00e+02  1.00e+03 -2.00e+03  1.00e+03  1.05e+04\n",
            "   1.00e+03  1.00e+03]\n",
            " [ 1.00e+03  1.00e+02  1.00e+03  1.00e+03  1.00e+03 -2.00e+03  1.00e+04\n",
            "   1.00e+03  1.00e+03]\n",
            " [ 1.00e+03  1.05e+01  1.00e+01  1.00e+03  1.05e+04  1.00e+04 -2.00e+03\n",
            "   1.00e+03  1.00e+03]\n",
            " [ 1.05e+01  1.00e+03  1.00e+00  1.05e+04  1.00e+03  1.00e+03  1.00e+03\n",
            "  -2.00e+03  1.00e+03]\n",
            " [ 1.00e+01  1.00e+00  1.00e+03  1.00e+04  1.00e+03  1.00e+03  1.00e+03\n",
            "   1.00e+03 -2.00e+03]]\n"
          ]
        }
      ],
      "source": [
        "# regenerate and return the QUBO matrix, with a custom penalty function\n",
        "print(system.generate_qubo(penalty = 1000))"
      ]
    },
    {
      "cell_type": "code",
      "execution_count": 18,
      "id": "00150493-6c4d-4c42-b546-395fbf26a784",
      "metadata": {
        "trusted": true
      },
      "outputs": [
        {
          "data": {
            "image/png": "[encoded data removed]",
            "text/plain": [
              "<Figure size 600x600 with 1 Axes>"
            ]
          },
          "metadata": {},
          "output_type": "display_data"
        }
      ],
      "source": [
        "# display the current state as a graph\n",
        "system.show_state_graph()"
      ]
    }
  ],
  "metadata": {
    "kernelspec": {
      "display_name": ".venv",
      "language": "python",
      "name": "python3"
    },
    "language_info": {
      "codemirror_mode": {
        "name": "ipython",
        "version": 3
      },
      "file_extension": ".py",
      "mimetype": "text/x-python",
      "name": "python",
      "nbconvert_exporter": "python",
      "pygments_lexer": "ipython3",
      "version": "3.13.0"
    }
  },
  "nbformat": 4,
  "nbformat_minor": 5
}
